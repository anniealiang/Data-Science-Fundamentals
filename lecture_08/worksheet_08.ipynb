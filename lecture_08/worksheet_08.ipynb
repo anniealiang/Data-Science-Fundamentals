{
 "cells": [
  {
   "cell_type": "markdown",
   "metadata": {},
   "source": [
    "# Worksheet 08\n",
    "\n",
    "Name:  Annie Liang\n",
    "\n",
    "UID:  U44666626\n",
    "\n",
    "### Topics\n",
    "\n",
    "- Soft Clustering\n",
    "- Clustering Aggregation\n",
    "\n",
    "### Probability Review\n",
    "\n",
    "Read through [the following](https://medium.com/@gallettilance/overview-of-probability-3272b72c82c8)\n",
    "\n",
    "### Soft Clustering\n",
    "\n",
    "We generate 10 data points that come from a normal distribution with mean 5 and variance 1."
   ]
  },
  {
   "cell_type": "code",
   "execution_count": 191,
   "metadata": {},
   "outputs": [
    {
     "name": "stdout",
     "output_type": "stream",
     "text": [
      "[5.666235391659105, 5.616372601992778, 4.968628620102518, 5.443542323074169, 5.923283744102789, 3.250383095576413, 5.36707311033284, 5.576107067034092, 7.255641740484222, 3.979967973813479]\n"
     ]
    }
   ],
   "source": [
    "import random\n",
    "import numpy as np\n",
    "from sklearn.cluster import KMeans\n",
    "\n",
    "mean = 5\n",
    "stdev = 1\n",
    "\n",
    "s1 = np.random.normal(mean, stdev, 10).tolist()\n",
    "print(s1)"
   ]
  },
  {
   "cell_type": "markdown",
   "metadata": {},
   "source": [
    "a) Generate 10 more data points, this time coming from a normal distribution with mean 8 and variance 1."
   ]
  },
  {
   "cell_type": "code",
   "execution_count": 192,
   "metadata": {},
   "outputs": [
    {
     "name": "stdout",
     "output_type": "stream",
     "text": [
      "[7.584911316233825, 9.813546922368571, 8.918232243470554, 9.39913810821606, 6.111311625269099, 5.602154720133019, 8.57338494417693, 10.215997245053165, 8.461079469645696, 7.102327040870739]\n"
     ]
    }
   ],
   "source": [
    "s2 = np.random.normal( 8 , 1 , 10 ).tolist()\n",
    "print(s2)"
   ]
  },
  {
   "attachments": {},
   "cell_type": "markdown",
   "metadata": {},
   "source": [
    "b) Flip a fair coin 10 times. If the coin lands on H, then pick the last data point of `s1` and remove it from `s1`, if T then pick the last data point from `s2` and remove it from `s2`. Add these 10 points to a list called `data`."
   ]
  },
  {
   "cell_type": "code",
   "execution_count": 193,
   "metadata": {},
   "outputs": [
    {
     "name": "stdout",
     "output_type": "stream",
     "text": [
      "[3.979967973813479, 7.102327040870739, 8.461079469645696, 10.215997245053165, 8.57338494417693, 7.255641740484222, 5.576107067034092, 5.36707311033284, 3.250383095576413, 5.923283744102789]\n"
     ]
    }
   ],
   "source": [
    "data = []\n",
    "for i in range(10):\n",
    "    # flip coin\n",
    "    coin_output = random.choice([0, 1])\n",
    "    if coin_output == 0:\n",
    "        p1 = s1.pop()\n",
    "        data.append(p1)\n",
    "    else:\n",
    "        p2 = s2.pop()\n",
    "        data.append(p2)\n",
    "print(data)"
   ]
  },
  {
   "cell_type": "markdown",
   "metadata": {},
   "source": [
    "c) This `data` is a Gaussian Mixture Distribution with 2 mixture components. Over the next few questions we will walk through the GMM algorithm to see if we can uncover the parameters we used to generate this data. First, please list all these parameters of the GMM that created `data` and the values we know they have."
   ]
  },
  {
   "cell_type": "markdown",
   "metadata": {},
   "source": [
    "- Prior Probability of s1 = 0.5\n",
    "- Mean of s1 = 5\n",
    "- Variance of s1 = 1"
   ]
  },
  {
   "cell_type": "markdown",
   "metadata": {},
   "source": [
    "- Prior Probability of s2 = 0.5\n",
    "- Mean of s2 = 8\n",
    "- Variance of s2 = 1"
   ]
  },
  {
   "cell_type": "markdown",
   "metadata": {},
   "source": [
    "d) Let's assume there are two mixture components (note: we could plot the data and make the observation that there are two clusters). The EM algorithm asks us to start with a random `mean_j`, `variance_j`, `P(S_j)` for each component j. One method we could use to find sensible values for these is to apply K means with k=2 here.\n",
    "\n",
    "1. the centroids would be the estimates of the `mean_j`\n",
    "2. the intra-cluster variance could be the estimate of `variance_j`\n",
    "3. the proportion of points in each cluster could be the estimate of `P(S_j)`\n",
    "\n",
    "Go through this process and list the parameter estimates it gives. Are they close or far from the true values?"
   ]
  },
  {
   "cell_type": "code",
   "execution_count": 194,
   "metadata": {},
   "outputs": [
    {
     "name": "stdout",
     "output_type": "stream",
     "text": [
      "[3.979967973813479, 5.576107067034092, 5.36707311033284, 3.250383095576413, 5.923283744102789]\n",
      "[7.102327040870739, 8.461079469645696, 10.215997245053165, 8.57338494417693, 7.255641740484222]\n",
      "P(S_1) = 0.5,  P(S_2) = 0.5\n",
      "mean_1 = 4.819362998171923,  mean_2 = 8.32168608804615\n",
      "var_1 = 1.051514181536857,  var_2 = 1.2588969250939637\n"
     ]
    },
    {
     "name": "stderr",
     "output_type": "stream",
     "text": [
      "/Users/annieliang/opt/anaconda3/lib/python3.8/site-packages/sklearn/cluster/_kmeans.py:1416: FutureWarning: The default value of `n_init` will change from 10 to 'auto' in 1.4. Set the value of `n_init` explicitly to suppress the warning\n",
      "  super()._check_params_vs_input(X, default_n_init=10)\n"
     ]
    }
   ],
   "source": [
    "kmeans = KMeans(2, init='k-means++').fit(X=np.array(data).reshape(-1, 1))\n",
    "\n",
    "s1 = [x[0] for x in filter(lambda x: x[1] == 0, zip(data, kmeans.labels_))]\n",
    "#Take everything in data that was assigned to s1\n",
    "print(s1)\n",
    "s2 = [x[0] for x in filter(lambda x: x[1] == 1, zip(data, kmeans.labels_))]\n",
    "print(s2)\n",
    "\n",
    "prob_s = [ len(s1) / (len(s1) + len(s2)) , len(s2) / (len(s1) + len(s2)) ]\n",
    "mean = [ sum(s1)/len(s1) , sum(s2)/len(s2) ]\n",
    "var = [ sum(map(lambda x : (x - mean[0])**2, s1)) / len(s1) , sum(map(lambda x : (x - mean[1])**2, s2)) / len(s2) ]\n",
    "\n",
    "print(\"P(S_1) = \" + str(prob_s[0]) + \",  P(S_2) = \" + str(prob_s[1]))\n",
    "print(\"mean_1 = \" + str(mean[0]) + \",  mean_2 = \" + str(mean[1]))\n",
    "print(\"var_1 = \" + str(var[0]) + \",  var_2 = \" + str(var[1]))"
   ]
  },
  {
   "cell_type": "markdown",
   "metadata": {},
   "source": [
    "The estimates are close to the true values, although there is a slight discrepancy in the estimation of the second variance. The estimated probability matches for both, both the means are relatively close to their respective means, and both the variance are relatively close to their respective variance with the second variance a little more off."
   ]
  },
  {
   "cell_type": "markdown",
   "metadata": {},
   "source": [
    "e) For each data point, compute `P(S_j | X_i)`. Comment on which cluster you think each point belongs to based on the estimated probabilities. How does that compare to the truth?"
   ]
  },
  {
   "cell_type": "code",
   "execution_count": 195,
   "metadata": {},
   "outputs": [
    {
     "name": "stdout",
     "output_type": "stream",
     "text": [
      "point =  3.979967973813479\n",
      "probability of observing that point if it came from cluster 0 =  0.2758799815417015\n",
      "probability of observing that point if it came from cluster 1 =  0.000828097735730578\n",
      "point =  7.102327040870739\n",
      "probability of observing that point if it came from cluster 0 =  0.035934697492192025\n",
      "probability of observing that point if it came from cluster 1 =  0.19824317537153585\n",
      "point =  8.461079469645696\n",
      "probability of observing that point if it came from cluster 0 =  0.0009430251780634244\n",
      "probability of observing that point if it came from cluster 1 =  0.31496158344837\n",
      "point =  10.215997245053165\n",
      "probability of observing that point if it came from cluster 0 =  7.234982998559084e-07\n",
      "probability of observing that point if it came from cluster 1 =  0.10215193936878326\n",
      "point =  8.57338494417693\n",
      "probability of observing that point if it came from cluster 0 =  0.0006477442251668433\n",
      "probability of observing that point if it came from cluster 1 =  0.31062725489435955\n",
      "point =  7.255641740484222\n",
      "probability of observing that point if it came from cluster 0 =  0.02590708474423771\n",
      "probability of observing that point if it came from cluster 1 =  0.22141499095124909\n",
      "point =  5.576107067034092\n",
      "probability of observing that point if it came from cluster 0 =  0.29283886273074955\n",
      "probability of observing that point if it came from cluster 1 =  0.029380482606662126\n",
      "point =  5.36707311033284\n",
      "probability of observing that point if it came from cluster 0 =  0.3312683728171046\n",
      "probability of observing that point if it came from cluster 1 =  0.020174312142450405\n",
      "point =  3.250383095576413\n",
      "probability of observing that point if it came from cluster 0 =  0.12463409594157253\n",
      "probability of observing that point if it came from cluster 1 =  9.486477711668961e-05\n",
      "point =  5.923283744102789\n",
      "probability of observing that point if it came from cluster 0 =  0.21865703038112339\n",
      "probability of observing that point if it came from cluster 1 =  0.05161230453791532\n",
      "3.979967973813479\n",
      "Probability of coming from S_1 = 0.9970073236101635\n",
      "Probability of coming from S_2 = 0.002992676389836502\n",
      "\n",
      "7.102327040870739\n",
      "Probability of coming from S_1 = 0.1534504394149273\n",
      "Probability of coming from S_2 = 0.8465495605850727\n",
      "\n",
      "8.461079469645696\n",
      "Probability of coming from S_1 = 0.0029851580265439544\n",
      "Probability of coming from S_2 = 0.997014841973456\n",
      "\n",
      "10.215997245053165\n",
      "Probability of coming from S_1 = 7.082520215819483e-06\n",
      "Probability of coming from S_2 = 0.9999929174797842\n",
      "\n",
      "8.57338494417693\n",
      "Probability of coming from S_1 = 0.0020809388065185287\n",
      "Probability of coming from S_2 = 0.9979190611934815\n",
      "\n",
      "7.255641740484222\n",
      "Probability of coming from S_1 = 0.10475039347533047\n",
      "Probability of coming from S_2 = 0.8952496065246695\n",
      "\n",
      "5.576107067034092\n",
      "Probability of coming from S_1 = 0.9088183778168365\n",
      "Probability of coming from S_2 = 0.09118162218316339\n",
      "\n",
      "5.36707311033284\n",
      "Probability of coming from S_1 = 0.9425957261145665\n",
      "Probability of coming from S_2 = 0.05740427388543347\n",
      "\n",
      "3.250383095576413\n",
      "Probability of coming from S_1 = 0.9992394326340084\n",
      "Probability of coming from S_2 = 0.0007605673659916513\n",
      "\n",
      "5.923283744102789\n",
      "Probability of coming from S_1 = 0.8090338123140156\n",
      "Probability of coming from S_2 = 0.1909661876859844\n",
      "\n"
     ]
    }
   ],
   "source": [
    "from scipy.stats import norm\n",
    "\n",
    "prob_s0_x = [] # P(S_0 | X_i)\n",
    "prob_s1_x = [] # P(S_1 | X_i)\n",
    "prob_x = [] # P(X_i)\n",
    "\n",
    "k = 2\n",
    "\n",
    "for p in data:\n",
    "    print(\"point = \", p)\n",
    "    pdf_i = []\n",
    "\n",
    "    for j in range(k):\n",
    "        # P(X_i | S_j)\n",
    "        pdf_i.append(norm.pdf(p, mean[j], var[j]))\n",
    "        print(\"probability of observing that point if it came from cluster \" + str(j) + \" = \", pdf_i[j])\n",
    "        # P(S_j) already computed\n",
    "        prob_s[j]\n",
    "\n",
    "    # P(X_i) = P(S_0)P(X_i | S_0) + P(S_1)P(X_i | S_1)\n",
    "    prob_x = prob_s[0] * pdf_i[0] + prob_s[1] * pdf_i[1]\n",
    "\n",
    "    # P(S_j | X_i) = P(X_i | S_j)P(S_j) / P(X_i)\n",
    "    prob_s0_x.append(pdf_i[0] * prob_s[0] / prob_x)\n",
    "    prob_s1_x.append(pdf_i[1] * prob_s[1] / prob_x)\n",
    "\n",
    "probs = zip(data, prob_s0_x, prob_s1_x)\n",
    "for p in probs:\n",
    "    print(p[0])\n",
    "    print(\"Probability of coming from S_1 = \" + str(p[1]))\n",
    "    print(\"Probability of coming from S_2 = \" + str(p[2]))\n",
    "    print()"
   ]
  },
  {
   "cell_type": "markdown",
   "metadata": {},
   "source": [
    "In general, these estimations are good with points that are closer to 5 have higher estimated probabilities of being from s1 and points that are closer to 8 have higher probabilities of being from s2.\n",
    "\n",
    "Points for s1: 3.97, 5.57, 5.36, 3.25, 5.92\n",
    "\n",
    "Points for s2: 7.10, 8.46, 10.21, 8.57, 7.25"
   ]
  },
  {
   "cell_type": "markdown",
   "metadata": {},
   "source": [
    "f) Having computed `P(S_j | X_i)`, update the estimates of `mean_j`, `var_j`, and `P(S_j)`. How different are these values from the original ones you got from K means? briefly comment."
   ]
  },
  {
   "cell_type": "code",
   "execution_count": 196,
   "metadata": {},
   "outputs": [
    {
     "name": "stdout",
     "output_type": "stream",
     "text": [
      "P(S_1) = 0.5,  P(S_2) = 0.5\n",
      "mean_1 = 4.883732506744383,  mean_2 = 8.204168802669145\n",
      "var_1 = 1.3052285450328416,  var_2 = 1.6220093431878824\n"
     ]
    }
   ],
   "source": [
    "prob_c = [sum(prob_s0_x)/ len(prob_s0_x), sum(prob_s1_x)/ len(prob_s1_x)]\n",
    "mean = [sum([x[0] * x[1] for x in zip(prob_s0_x, data)]) / sum(prob_s0_x), sum([x[0] * x[1] for x in zip(prob_s1_x, data)]) / sum(prob_s1_x)]\n",
    "var = [sum([x[0] * (x[1] - mean[0]) ** 2 for x in zip(prob_s0_x, data)]) / sum(prob_s0_x), sum([x[0] * (x[1] - mean[1]) ** 2 for x in zip(prob_s1_x, data)]) / sum(prob_s1_x) ]\n",
    "\n",
    "print(\"P(S_1) = \" + str(prob_s[0]) + \",  P(S_2) = \" + str(prob_s[1]))\n",
    "print(\"mean_1 = \" + str(mean[0]) + \",  mean_2 = \" + str(mean[1]))\n",
    "print(\"var_1 = \" + str(var[0]) + \",  var_2 = \" + str(var[1]))"
   ]
  },
  {
   "cell_type": "markdown",
   "metadata": {},
   "source": [
    "The estimated mean for both means have slightly improved, while both variances deviated further from the actual variance (both increased). However, our estimates would most likely benefit from further iterations."
   ]
  },
  {
   "cell_type": "markdown",
   "metadata": {},
   "source": [
    "g) Update `P(S_j | X_i)`. Comment on any differences or lack thereof you observe."
   ]
  },
  {
   "cell_type": "code",
   "execution_count": 197,
   "metadata": {},
   "outputs": [
    {
     "name": "stdout",
     "output_type": "stream",
     "text": [
      "point =  3.979967973813479\n",
      "probability of observing that point if it came from cluster 0 =  0.24049921496023616\n",
      "probability of observing that point if it came from cluster 1 =  0.00828095864405963\n",
      "point =  7.102327040870739\n",
      "probability of observing that point if it came from cluster 0 =  0.07208323379471078\n",
      "probability of observing that point if it came from cluster 1 =  0.19527762333560436\n",
      "point =  8.461079469645696\n",
      "probability of observing that point if it came from cluster 0 =  0.007145590667633432\n",
      "probability of observing that point if it came from cluster 1 =  0.24288966202428824\n",
      "point =  10.215997245053165\n",
      "probability of observing that point if it came from cluster 0 =  7.262507454483248e-05\n",
      "probability of observing that point if it came from cluster 1 =  0.1139706041309844\n",
      "point =  8.57338494417693\n",
      "probability of observing that point if it came from cluster 0 =  0.005623584820673123\n",
      "probability of observing that point if it came from cluster 1 =  0.23966535120525262\n",
      "point =  7.255641740484222\n",
      "probability of observing that point if it came from cluster 0 =  0.058631022490349\n",
      "probability of observing that point if it came from cluster 1 =  0.20729940792080245\n",
      "point =  5.576107067034092\n",
      "probability of observing that point if it came from cluster 0 =  0.2655341491169489\n",
      "probability of observing that point if it came from cluster 1 =  0.06619102650145449\n",
      "point =  5.36707311033284\n",
      "probability of observing that point if it came from cluster 0 =  0.2853947868660982\n",
      "probability of observing that point if it came from cluster 1 =  0.053273200869925326\n",
      "point =  3.250383095576413\n",
      "probability of observing that point if it came from cluster 0 =  0.13969348640846402\n",
      "probability of observing that point if it came from cluster 1 =  0.002319553005394662\n",
      "point =  5.923283744102789\n",
      "probability of observing that point if it came from cluster 0 =  0.22257655084420902\n",
      "probability of observing that point if it came from cluster 1 =  0.09150909393036219\n",
      "3.979967973813479\n",
      "Probability of coming from S_1 = 0.9667137516463384\n",
      "Probability of coming from S_2 = 0.03328624835366157\n",
      "\n",
      "7.102327040870739\n",
      "Probability of coming from S_1 = 0.2696102734274841\n",
      "Probability of coming from S_2 = 0.7303897265725159\n",
      "\n",
      "8.461079469645696\n",
      "Probability of coming from S_1 = 0.028578332817883873\n",
      "Probability of coming from S_2 = 0.9714216671821161\n",
      "\n",
      "10.215997245053165\n",
      "Probability of coming from S_1 = 0.0006368205727842663\n",
      "Probability of coming from S_2 = 0.9993631794272158\n",
      "\n",
      "8.57338494417693\n",
      "Probability of coming from S_1 = 0.02292636965932593\n",
      "Probability of coming from S_2 = 0.9770736303406741\n",
      "\n",
      "7.255641740484222\n",
      "Probability of coming from S_1 = 0.22047504078303626\n",
      "Probability of coming from S_2 = 0.7795249592169637\n",
      "\n",
      "5.576107067034092\n",
      "Probability of coming from S_1 = 0.8004642657041001\n",
      "Probability of coming from S_2 = 0.19953573429589996\n",
      "\n",
      "5.36707311033284\n",
      "Probability of coming from S_1 = 0.8426978551292855\n",
      "Probability of coming from S_2 = 0.15730214487071448\n",
      "\n",
      "3.250383095576413\n",
      "Probability of coming from S_1 = 0.9836666195233316\n",
      "Probability of coming from S_2 = 0.016333380476668418\n",
      "\n",
      "5.923283744102789\n",
      "Probability of coming from S_1 = 0.7086492316576867\n",
      "Probability of coming from S_2 = 0.2913507683423132\n",
      "\n"
     ]
    }
   ],
   "source": [
    "\n",
    "from scipy.stats import norm\n",
    "\n",
    "prob_s0_x = [] # P(S_0 | X_i)\n",
    "prob_s1_x = [] # P(S_1 | X_i)\n",
    "prob_x = [] # P(X_i)\n",
    "\n",
    "k = 2\n",
    "\n",
    "for p in data:\n",
    "    print(\"point = \", p)\n",
    "    pdf_i = []\n",
    "\n",
    "    for j in range(k):\n",
    "        # P(X_i | S_j)\n",
    "        pdf_i.append(norm.pdf(p, mean[j], var[j]))\n",
    "        print(\"probability of observing that point if it came from cluster \" + str(j) + \" = \", pdf_i[j])\n",
    "        # P(S_j) already computed\n",
    "        prob_s[j]\n",
    "\n",
    "    # P(X_i) = P(S_0)P(X_i | S_0) + P(S_1)P(X_i | S_1)\n",
    "    prob_x = prob_s[0] * pdf_i[0] + prob_s[1] * pdf_i[1]\n",
    "\n",
    "    # P(S_j | X_i) = P(X_i | S_j)P(S_j) / P(X_i)\n",
    "    prob_s0_x.append(pdf_i[0] * prob_s[0] / prob_x)\n",
    "    prob_s1_x.append(pdf_i[1] * prob_s[1] / prob_x)\n",
    "\n",
    "probs = zip(data, prob_s0_x, prob_s1_x)\n",
    "\n",
    "prob_c = [sum(prob_s0_x)/ len(prob_s0_x), sum(prob_s1_x)/ len(prob_s1_x)]\n",
    "mean = [sum([x[0] * x[1] for x in zip(prob_s0_x, data)]) / sum(prob_s0_x), sum([x[0] * x[1] for x in zip(prob_s1_x, data)]) / sum(prob_s1_x)]\n",
    "var = [sum([x[0] * (x[1] - mean[0]) ** 2 for x in zip(prob_s0_x, data)]) / sum(prob_s0_x), sum([x[0] * (x[1] - mean[1]) ** 2 for x in zip(prob_s1_x, data)]) / sum(prob_s1_x) ]\n",
    "\n",
    "probs = zip(data, prob_s0_x, prob_s1_x)\n",
    "for p in probs:\n",
    "    print(p[0])\n",
    "    print(\"Probability of coming from S_1 = \" + str(p[1]))\n",
    "    print(\"Probability of coming from S_2 = \" + str(p[2]))\n",
    "    print()"
   ]
  },
  {
   "cell_type": "markdown",
   "metadata": {},
   "source": [
    "These estimated probabilities seem to be more reasonable with proababolities values below 6.5 have a higher probability to s1 and values above 6.5 have a higher probability to s2."
   ]
  },
  {
   "cell_type": "markdown",
   "metadata": {},
   "source": [
    "h) Use `P(S_j | X_i)` to create a hard assignment - label each point as belonging to a specific cluster (0 or 1)"
   ]
  },
  {
   "cell_type": "code",
   "execution_count": 198,
   "metadata": {},
   "outputs": [
    {
     "name": "stdout",
     "output_type": "stream",
     "text": [
      "Point  3.979967973813479  assigned to  0\n",
      "\n",
      "Point  7.102327040870739  assigned to  1\n",
      "\n",
      "Point  8.461079469645696  assigned to  1\n",
      "\n",
      "Point  10.215997245053165  assigned to  1\n",
      "\n",
      "Point  8.57338494417693  assigned to  1\n",
      "\n",
      "Point  7.255641740484222  assigned to  1\n",
      "\n",
      "Point  5.576107067034092  assigned to  0\n",
      "\n",
      "Point  5.36707311033284  assigned to  0\n",
      "\n",
      "Point  3.250383095576413  assigned to  0\n",
      "\n",
      "Point  5.923283744102789  assigned to  0\n",
      "\n"
     ]
    }
   ],
   "source": [
    "assignments = {}\n",
    "for p in range(len(data)):\n",
    "    if prob_s0_x[p] > prob_s1_x[p]:\n",
    "        assignments[data[p]] = 0\n",
    "    else:\n",
    "        assignments[data[p]] = 1\n",
    "    print(\"Point \", data[p], \" assigned to \", assignments[data[p]])\n",
    "    print()"
   ]
  },
  {
   "cell_type": "code",
   "execution_count": null,
   "metadata": {},
   "outputs": [],
   "source": []
  }
 ],
 "metadata": {
  "kernelspec": {
   "display_name": "Python 3 (ipykernel)",
   "language": "python",
   "name": "python3"
  },
  "language_info": {
   "codemirror_mode": {
    "name": "ipython",
    "version": 3
   },
   "file_extension": ".py",
   "mimetype": "text/x-python",
   "name": "python",
   "nbconvert_exporter": "python",
   "pygments_lexer": "ipython3",
   "version": "3.8.18"
  },
  "vscode": {
   "interpreter": {
    "hash": "e7370f93d1d0cde622a1f8e1c04877d8463912d04d973331ad4851f04de6915a"
   }
  }
 },
 "nbformat": 4,
 "nbformat_minor": 2
}
