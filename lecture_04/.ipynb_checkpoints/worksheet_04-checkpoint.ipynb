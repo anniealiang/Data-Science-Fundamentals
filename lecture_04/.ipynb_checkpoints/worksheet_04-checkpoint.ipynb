{
 "cells": [
  {
   "cell_type": "markdown",
   "metadata": {},
   "source": [
    "# Worksheet 04\n",
    "\n",
    "Name:  Annie Liang\n",
    "\n",
    "UID:  U44666626\n",
    "\n",
    "### Topics\n",
    "\n",
    "- Distance & Similarity"
   ]
  },
  {
   "cell_type": "markdown",
   "metadata": {},
   "source": [
    "### Distance & Similarity\n",
    "\n",
    "#### Part 1\n",
    "\n",
    "a) In the minkowski distance, describe what the parameters p and d are."
   ]
  },
  {
   "cell_type": "markdown",
   "metadata": {},
   "source": [
    "$d$ is the dimensional of the points $x$ and $y$, where $x = [x_1, ..., x_d]$ and $y = [y_1, ..., y_d]$\n",
    "\n",
    "$p$ is an arbitary parameter such that when $p = 1$ the minkowski distance is the Manhattan distance and when $p = 2$ the minkowski distance is the Euclidean distance"
   ]
  },
  {
   "cell_type": "markdown",
   "metadata": {},
   "source": [
    "b) In your own words describe the difference between the Euclidean distance and the Manhattan distance."
   ]
  },
  {
   "cell_type": "markdown",
   "metadata": {},
   "source": [
    "The Euclidean distance measures the absolute distance between two points while the Manhattan distance is the sum of the absolute differences between their coordinates in each dimension."
   ]
  },
  {
   "cell_type": "markdown",
   "metadata": {},
   "source": [
    "Consider A = (0, 0) and B = (1, 1). When:\n",
    "\n",
    "- p = 1, d(A, B) = 2\n",
    "- p = 2, d(A, B) = $\\sqrt{2} = 1.41$\n",
    "- p = 3, d(A, B) = $2^{1/3} = 1.26$\n",
    "- p = 4, d(A, B) = $2^{1/4} = 1.19$\n",
    "\n",
    "c) Describe what you think distance would look like when p is very large."
   ]
  },
  {
   "cell_type": "markdown",
   "metadata": {},
   "source": [
    "As $p$ increases, $d(A, B)$ would approach $1$, i.e. as $p$ -> $\\infty$, $\\frac{1}{p}$ -> $0$ and $2^{\\frac{1}{p}}$ -> $1$"
   ]
  },
  {
   "cell_type": "markdown",
   "metadata": {},
   "source": [
    "d) Is the minkowski distance still a distance function when p < 1? Expain why / why not."
   ]
  },
  {
   "cell_type": "markdown",
   "metadata": {},
   "source": [
    "No, the minkowski distance is not a distance function when p < 1.\n",
    "\n",
    "Let's consider points $A(0,0), B(1,0), and C(0,1))$ such that $D(B,A) = D(A,C) = 1$ and $D(B,C) = 2^{\\frac{1}{p}}$\n",
    "\n",
    "However, when $p < 1$, $D(B,C) > 2 = D(B,A) + D(A,C)$; therefore, this violates the triangle inequality of the distance function\n",
    "\n"
   ]
  },
  {
   "cell_type": "markdown",
   "metadata": {},
   "source": [
    "e) when would you use cosine similarity over the euclidan distance?"
   ]
  },
  {
   "cell_type": "markdown",
   "metadata": {},
   "source": [
    "We would use cosine similarity over the euclidan distance when we are concerned about the direction of our data vectors rather than their overall magnitude, e.g. want a similar subset of data. "
   ]
  },
  {
   "cell_type": "markdown",
   "metadata": {},
   "source": [
    "f) what does the jaccard distance account for that the manhattan distance doesn't?"
   ]
  },
  {
   "cell_type": "markdown",
   "metadata": {},
   "source": [
    "The jaccard distance account for the accounts for both differences and similarities within the documents, while the manhattan distance only accounts for the differences."
   ]
  },
  {
   "cell_type": "markdown",
   "metadata": {},
   "source": [
    "#### Part 2\n",
    "\n",
    "Consider the following two sentences:"
   ]
  },
  {
   "cell_type": "code",
   "execution_count": 70,
   "metadata": {
    "vscode": {
     "languageId": "polyglot-notebook"
    }
   },
   "outputs": [],
   "source": [
    "s1 = \"hello my name is Alice\"  \n",
    "s2 = \"hello my name is Bob\""
   ]
  },
  {
   "cell_type": "markdown",
   "metadata": {},
   "source": [
    "using the union of words from both sentences, we can represent each sentence as a vector. Each element of the vector represents the presence or absence of the word at that index.\n",
    "\n",
    "In this example, the union of words is (\"hello\", \"my\", \"name\", \"is\", \"Alice\", \"Bob\") so we can represent the above sentences as such:"
   ]
  },
  {
   "cell_type": "code",
   "execution_count": 58,
   "metadata": {
    "vscode": {
     "languageId": "polyglot-notebook"
    }
   },
   "outputs": [],
   "source": [
    "v1 = [1,    1, 1,   1, 1,    0]\n",
    "#     hello my name is Alice\n",
    "v2 = [1,    1, 1,   1, 0, 1]\n",
    "#     hello my name is    Bob"
   ]
  },
  {
   "cell_type": "markdown",
   "metadata": {},
   "source": [
    "Programmatically, we can do the following:"
   ]
  },
  {
   "cell_type": "code",
   "execution_count": 59,
   "metadata": {
    "vscode": {
     "languageId": "polyglot-notebook"
    }
   },
   "outputs": [
    {
     "name": "stdout",
     "output_type": "stream",
     "text": [
      "['hello', 'Alice', 'my', 'Bob', 'name', 'is']\n",
      "[1, 1, 1, 0, 1, 1]\n"
     ]
    }
   ],
   "source": [
    "corpus = [s1, s2]\n",
    "all_words = list(set([item for x in corpus for item in x.split()]))\n",
    "print(all_words)\n",
    "v1 = [1 if x in s1 else 0 for x in all_words]\n",
    "print(v1)"
   ]
  },
  {
   "cell_type": "markdown",
   "metadata": {},
   "source": [
    "Let's add a new sentence to our corpus:"
   ]
  },
  {
   "cell_type": "code",
   "execution_count": 60,
   "metadata": {
    "vscode": {
     "languageId": "polyglot-notebook"
    }
   },
   "outputs": [],
   "source": [
    "s3 = \"hi my name is Claude\"\n",
    "corpus.append(s3)"
   ]
  },
  {
   "cell_type": "markdown",
   "metadata": {},
   "source": [
    "a) What is the new union of words used to represent s1, s2, and s3?"
   ]
  },
  {
   "cell_type": "code",
   "execution_count": 61,
   "metadata": {
    "vscode": {
     "languageId": "polyglot-notebook"
    }
   },
   "outputs": [
    {
     "data": {
      "text/plain": [
       "['hello', 'Alice', 'my', 'Bob', 'Claude', 'name', 'is', 'hi']"
      ]
     },
     "execution_count": 61,
     "metadata": {},
     "output_type": "execute_result"
    }
   ],
   "source": [
    "list(set([item for x in corpus for item in x.split()]))"
   ]
  },
  {
   "cell_type": "markdown",
   "metadata": {},
   "source": [
    "b) Represent s1, s2, and s3 as vectors as above, using this new set of words."
   ]
  },
  {
   "cell_type": "code",
   "execution_count": 62,
   "metadata": {
    "vscode": {
     "languageId": "polyglot-notebook"
    }
   },
   "outputs": [
    {
     "name": "stdout",
     "output_type": "stream",
     "text": [
      "[1, 1, 1, 0, 1, 1]\n",
      "[1, 0, 1, 1, 1, 1]\n",
      "[0, 0, 1, 0, 1, 1]\n"
     ]
    }
   ],
   "source": [
    "print([1 if x in s1 else 0 for x in all_words])\n",
    "print([1 if x in s2 else 0 for x in all_words])\n",
    "print([1 if x in s3 else 0 for x in all_words])"
   ]
  },
  {
   "cell_type": "markdown",
   "metadata": {},
   "source": [
    "c) Write a function that computes the manhattan distance between two vectors. Which pair of vectors are the most similar under that distance function?"
   ]
  },
  {
   "cell_type": "code",
   "execution_count": 63,
   "metadata": {
    "vscode": {
     "languageId": "polyglot-notebook"
    }
   },
   "outputs": [
    {
     "name": "stdout",
     "output_type": "stream",
     "text": [
      "2.0\n"
     ]
    }
   ],
   "source": [
    "def minkowski(x, y, p):\n",
    "    \"\"\" minkowski distance between vectors x and y given parameter p \"\"\"\n",
    "    # error if vectors x and y aren't equal\n",
    "    if len(x) != len(y):\n",
    "        raise RuntimeError(\"x and y should equal\")\n",
    "    \n",
    "    # minkowski distance\n",
    "    result = 0\n",
    "    \n",
    "    for i in range(len(x)):\n",
    "        result += abs(x[i] - y[i]) ** p\n",
    "    \n",
    "    return result ** (1 / p)\n",
    "\n",
    "def manhattan(x, y):\n",
    "    \"\"\" manhattan distance between vectors x and y \"\"\"\n",
    "    return minkowski(x, y, 1)\n",
    "\n",
    "print(manhattan(v1, v2))"
   ]
  },
  {
   "cell_type": "markdown",
   "metadata": {},
   "source": [
    "d) Create a matrix of all these vectors (row major) and add the following sentences in vector form:\n",
    "\n",
    "- \"hi Alice\"\n",
    "- \"hello Claude\"\n",
    "- \"Bob my name is Claude\"\n",
    "- \"hi Claude my name is Alice\"\n",
    "- \"hello Bob\""
   ]
  },
  {
   "cell_type": "code",
   "execution_count": 64,
   "metadata": {
    "vscode": {
     "languageId": "polyglot-notebook"
    }
   },
   "outputs": [
    {
     "data": {
      "text/plain": [
       "[[1, 1, 1, 0, 1, 1],\n",
       " [1, 0, 1, 1, 1, 1],\n",
       " [0, 0, 1, 0, 1, 1],\n",
       " [0, 1, 0, 0, 0, 0],\n",
       " [1, 0, 0, 0, 0, 0],\n",
       " [0, 0, 1, 1, 1, 1],\n",
       " [0, 1, 1, 0, 1, 1],\n",
       " [1, 0, 0, 1, 0, 0]]"
      ]
     },
     "execution_count": 64,
     "metadata": {},
     "output_type": "execute_result"
    }
   ],
   "source": [
    "s4 = \"hi Alice\"\n",
    "s5 = \"hello Claude\"\n",
    "s6 = \"Bob my name is Claude\"\n",
    "s7 = \"hi Claude my name is Alice\"\n",
    "s8 = \"hello Bob\"\n",
    "\n",
    "v1 = [1 if x in s1 else 0 for x in all_words]\n",
    "v2 = [1 if x in s2 else 0 for x in all_words]\n",
    "v3 = [1 if x in s3 else 0 for x in all_words]\n",
    "v4 = [1 if x in s4 else 0 for x in all_words]\n",
    "v5 = [1 if x in s5 else 0 for x in all_words]\n",
    "v6 = [1 if x in s6 else 0 for x in all_words]\n",
    "v7 = [1 if x in s7 else 0 for x in all_words]\n",
    "v8 = [1 if x in s8 else 0 for x in all_words]\n",
    "\n",
    "matrix = [v1, v2, v3, v4, v5, v6, v7, v8]\n",
    "matrix"
   ]
  },
  {
   "cell_type": "markdown",
   "metadata": {},
   "source": [
    "e) How many rows and columns does this matrix have?"
   ]
  },
  {
   "cell_type": "code",
   "execution_count": 65,
   "metadata": {},
   "outputs": [
    {
     "name": "stdout",
     "output_type": "stream",
     "text": [
      "This matrix has 8 rows and 6 columns\n"
     ]
    }
   ],
   "source": [
    "print(\"This matrix has\", len(matrix), \"rows and\", len(matrix[0]), \"columns\")"
   ]
  },
  {
   "cell_type": "markdown",
   "metadata": {},
   "source": [
    "f) When using the Manhattan distance, which two sentences are the most similar?"
   ]
  },
  {
   "cell_type": "code",
   "execution_count": 69,
   "metadata": {
    "vscode": {
     "languageId": "polyglot-notebook"
    }
   },
   "outputs": [
    {
     "name": "stdout",
     "output_type": "stream",
     "text": [
      "Most similar pair of sentences: ('hello my name is Alice', 'hi Claude my name is Alice')\n"
     ]
    }
   ],
   "source": [
    "strings = [s1, s2, s3, s4, s5, s6, s7, s8]\n",
    "\n",
    "minDis = manhattan(matrix[0], matrix[1])\n",
    "minPair = (s1, s2)\n",
    "\n",
    "for i in range(len(matrix)):\n",
    "    for j in range(i + 1, len(matrix)):\n",
    "        pairDis = manhattan(matrix[i], matrix[j])\n",
    "        \n",
    "        if pairDis < minDis:\n",
    "            minDis = pairDis\n",
    "            minPair = (strings[i], strings[j])\n",
    "\n",
    "print(\"Most similar pair of sentences:\", minPair)"
   ]
  },
  {
   "cell_type": "markdown",
   "metadata": {},
   "source": [
    "#### Part 3 Challenge"
   ]
  },
  {
   "cell_type": "markdown",
   "metadata": {},
   "source": [
    "Given a set of graphs $\\mathcal{G}$, each graph $G \\in \\mathcal{G}$ is defined over the same set of nodes $V$. The graphs are represented by their adjacency matrices, which are 2D arrays where each element indicates whether a pair of nodes is connected by an edge.\n",
    "\n",
    "Your task is to compute the pairwise distances between these graphs based on a specific distance metric. The distance $d(G, G')$ between two graphs $G = (V, E)$ and $G' = (V, E')$ is defined as the sum of the number of edges in $G$ but not in $G'$, and the number of edges in $G'$ but not in $G$. Mathematically, this can be expressed as:\n",
    "\n",
    "$$\n",
    "d(G, G') = |E \\setminus E'| + |E' \\setminus E|.\n",
    "$$\n",
    "\n",
    "##### Requirements:\n",
    "1. **Input**: Should take a list of 2D numpy arrays as input. Each array represents the adjacency matrix of a graph.\n",
    "\n",
    "2. **Output**: Should output a pairwise distance matrix. If there are $n$ graphs in the input list, the output should be an $n \\times n$ matrix where the entry at position $(i, j)$ represents the distance between the $i^{th}$ and $j^{th}$ graph."
   ]
  },
  {
   "cell_type": "code",
   "execution_count": 2,
   "metadata": {
    "vscode": {
     "languageId": "polyglot-notebook"
    }
   },
   "outputs": [
    {
     "name": "stdout",
     "output_type": "stream",
     "text": [
      "[[0 2]\n",
      " [2 0]]\n",
      "[[0 3 7]\n",
      " [3 0 6]\n",
      " [7 6 0]]\n"
     ]
    }
   ],
   "source": [
    "import numpy as np\n",
    "\n",
    "def computeGraphDistance(graphs):\n",
    "    disMatrix = np.zeros((len(graphs), len(graphs)), dtype=int)\n",
    "        \n",
    "    for i in range(len(graphs)):\n",
    "            for j in range(i+1, len(graphs)):\n",
    "                distance = np.sum(np.abs(graphs[i] - graphs[j])) # difference between the matrices \n",
    "                disMatrix[i, j] = distance\n",
    "                disMatrix[j, i] = distance \n",
    "    \n",
    "    return disMatrix\n",
    "\n",
    "# Test Case\n",
    "g1 = np.array([[0, 1], [1, 0]])\n",
    "g2 = np.array([[0, 0], [0, 0]])\n",
    "distanceMatrix = computeGraphDistance([g1, g2])\n",
    "print(distanceMatrix)\n",
    "\n",
    "g3 = np.array([[1, 1, 1], [1, 0, 0], [1, 0, 0]])\n",
    "g4 = np.array([[0, 1, 1], [1, 0, 1], [1, 1, 0]])\n",
    "g5 = np.array([[0, 0, 0], [0, 1, 0], [0, 1, 0]])\n",
    "print(computeGraphDistance([g3, g4, g5]))"
   ]
  },
  {
   "cell_type": "code",
   "execution_count": null,
   "metadata": {
    "vscode": {
     "languageId": "polyglot-notebook"
    }
   },
   "outputs": [],
   "source": []
  }
 ],
 "metadata": {
  "kernelspec": {
   "display_name": "Python 3 (ipykernel)",
   "language": "python",
   "name": "python3"
  },
  "language_info": {
   "codemirror_mode": {
    "name": "ipython",
    "version": 3
   },
   "file_extension": ".py",
   "mimetype": "text/x-python",
   "name": "python",
   "nbconvert_exporter": "python",
   "pygments_lexer": "ipython3",
   "version": "3.8.18"
  },
  "vscode": {
   "interpreter": {
    "hash": "76ca05dc3ea24b2e3b98cdb7774adfbb40773424bf5109b477fd793f623715af"
   }
  }
 },
 "nbformat": 4,
 "nbformat_minor": 2
}
